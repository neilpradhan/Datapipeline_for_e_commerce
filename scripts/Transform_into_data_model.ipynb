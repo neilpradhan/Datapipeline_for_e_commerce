{
 "cells": [
  {
   "cell_type": "code",
   "execution_count": 23,
   "metadata": {},
   "outputs": [],
   "source": [
    "import pandas as pd\n",
    "\n",
    "inventory_df = pd.read_csv('../processed_data/cleaned_data/cleaned_inventory.csv')\n",
    "orders_df = pd.read_csv('../processed_data/cleaned_data/cleaned_orders.csv')"
   ]
  },
  {
   "cell_type": "markdown",
   "metadata": {},
   "source": [
    "# Data Modelling and Schema preparation"
   ]
  },
  {
   "cell_type": "markdown",
   "metadata": {},
   "source": [
    "## Inserting Data into Data Model\n",
    "\n",
    "Use Slowly Changing Dimensions Type 2 for Dimension table Inventory and appending data for Fact Table (Always check if no duplicates before loading in datawarehouse)"
   ]
  },
  {
   "cell_type": "code",
   "execution_count": 20,
   "metadata": {},
   "outputs": [],
   "source": [
    "from google.cloud import bigquery\n",
    "from google.oauth2 import service_account\n",
    "import pandas as pd\n",
    "\n",
    "# Path to the service account key file\n",
    "key_path = \"C:/Users/epranei/Downloads/calm-cove-423918-t0-ce8d5f6922f1.json\"\n",
    "\n",
    "# Authenticate with Google Cloud\n",
    "credentials = service_account.Credentials.from_service_account_file(key_path)\n",
    "client = bigquery.Client(credentials=credentials, project=credentials.project_id)\n",
    "\n",
    "# Dataset and table names\n",
    "project_id = 'calm-cove-423918-t0'\n",
    "dataset_id = 'Dema'\n",
    "orders_table_id = f'{project_id}.{dataset_id}.Orders'\n",
    "inventory_table_id = f'{project_id}.{dataset_id}.Inventory'\n",
    "\n",
    "# Load data\n",
    "\n",
    "\n",
    "# Convert dateTime column to datetime type\n",
    "orders_df['dateTime'] = pd.to_datetime(orders_df['dateTime'])\n",
    "\n",
    "# Replace NaN values in 'campaign' column with None\n",
    "orders_df['campaign'] = orders_df['campaign'].replace({pd.NA: None, float('nan'): None})\n",
    "\n",
    "# Define schema for Orders table\n",
    "orders_schema = [\n",
    "    bigquery.SchemaField(\"orderId\", \"STRING\", mode=\"REQUIRED\"),\n",
    "    bigquery.SchemaField(\"productId\", \"STRING\", mode=\"REQUIRED\"),\n",
    "    bigquery.SchemaField(\"currency\", \"STRING\", mode=\"NULLABLE\"),\n",
    "    bigquery.SchemaField(\"quantity\", \"INT64\", mode=\"NULLABLE\"),\n",
    "    bigquery.SchemaField(\"shippingCost\", \"FLOAT64\", mode=\"NULLABLE\"),\n",
    "    bigquery.SchemaField(\"amount\", \"FLOAT64\", mode=\"NULLABLE\"),\n",
    "    bigquery.SchemaField(\"channel\", \"STRING\", mode=\"NULLABLE\"),\n",
    "    bigquery.SchemaField(\"channelGroup\", \"STRING\", mode=\"NULLABLE\"),\n",
    "    bigquery.SchemaField(\"campaign\", \"STRING\", mode=\"NULLABLE\"),\n",
    "    bigquery.SchemaField(\"dateTime\", \"TIMESTAMP\", mode=\"REQUIRED\")\n",
    "]\n",
    "\n",
    "# Define schema for Inventory table (SCD Type 2)\n",
    "inventory_schema = [\n",
    "    bigquery.SchemaField(\"productId\", \"STRING\", mode=\"REQUIRED\"),\n",
    "    bigquery.SchemaField(\"name\", \"STRING\", mode=\"NULLABLE\"),\n",
    "    bigquery.SchemaField(\"category\", \"STRING\", mode=\"NULLABLE\"),\n",
    "    bigquery.SchemaField(\"subCategory\", \"STRING\", mode=\"NULLABLE\"),\n",
    "    bigquery.SchemaField(\"quantity\", \"INT64\", mode=\"NULLABLE\"),\n",
    "    bigquery.SchemaField(\"startDate\", \"TIMESTAMP\", mode=\"REQUIRED\"),\n",
    "    bigquery.SchemaField(\"endDate\", \"TIMESTAMP\", mode=\"NULLABLE\"),\n",
    "    bigquery.SchemaField(\"isCurrent\", \"BOOLEAN\", mode=\"NULLABLE\")\n",
    "]\n",
    "\n",
    "# Load data into Orders table\n",
    "job_config = bigquery.LoadJobConfig(schema=orders_schema)\n",
    "job = client.load_table_from_dataframe(orders_df, orders_table_id, job_config=job_config)\n",
    "job.result()  # Wait for the job to complete.\n",
    "print(\"Orders table loaded successfully.\")\n",
    "\n"
   ]
  },
  {
   "cell_type": "markdown",
   "metadata": {},
   "source": [
    "## Create additional columns for Dimension Tables and save max surrogate key\n",
    "\n",
    "Columns such as 'startDate','endDate', 'isCurrent' and 'Inventory surrogate Key' for Dataware house in order to implement Slowly Changing Dimensions Type 2 and also add similar schema change  for Terraform file\n",
    "\n",
    "Save max surrogate key for incremental and future loads\n",
    "\n"
   ]
  },
  {
   "cell_type": "code",
   "execution_count": 25,
   "metadata": {},
   "outputs": [
    {
     "name": "stdout",
     "output_type": "stream",
     "text": [
      "Initial load of inventory table calm-cove-423918-t0.Dema.Inventory completed successfully.\n"
     ]
    }
   ],
   "source": [
    "import pandas as pd\n",
    "from google.cloud import bigquery\n",
    "from google.oauth2 import service_account\n",
    "\n",
    "# Path to the service account key file\n",
    "key_path = \"C:/Users/epranei/Downloads/calm-cove-423918-t0-ce8d5f6922f1.json\"\n",
    "\n",
    "# Authenticate with Google Cloud\n",
    "credentials = service_account.Credentials.from_service_account_file(key_path)\n",
    "client = bigquery.Client(credentials=credentials, project=credentials.project_id)\n",
    "\n",
    "# Dataset and table names\n",
    "project_id = 'calm-cove-423918-t0'\n",
    "dataset_id = 'Dema'\n",
    "inventory_table_id = f'{project_id}.{dataset_id}.Inventory'\n",
    "\n",
    "# Define schema for the inventory table with the surrogate key\n",
    "inventory_schema = [\n",
    "    bigquery.SchemaField(\"productId\", \"STRING\", mode=\"REQUIRED\"),\n",
    "    bigquery.SchemaField(\"name\", \"STRING\", mode=\"NULLABLE\"),\n",
    "    bigquery.SchemaField(\"category\", \"STRING\", mode=\"NULLABLE\"),\n",
    "    bigquery.SchemaField(\"subCategory\", \"STRING\", mode=\"NULLABLE\"),\n",
    "    bigquery.SchemaField(\"quantity\", \"INT64\", mode=\"NULLABLE\"),\n",
    "    bigquery.SchemaField(\"inventory_skey\", \"INT64\", mode=\"REQUIRED\"),\n",
    "    bigquery.SchemaField(\"startDate\", \"TIMESTAMP\", mode=\"REQUIRED\"),\n",
    "    bigquery.SchemaField(\"endDate\", \"TIMESTAMP\", mode=\"NULLABLE\"),\n",
    "    bigquery.SchemaField(\"isCurrent\", \"BOOLEAN\", mode=\"NULLABLE\")\n",
    "]\n",
    "\n",
    "# Function to perform the initial load of inventory data into BigQuery\n",
    "def initial_load_inventory(client, inventory_table_id, inventory_df):\n",
    "    # Add SCD Type 2 columns\n",
    "    inventory_df['startDate'] = pd.to_datetime('now')\n",
    "    inventory_df['endDate'] = None\n",
    "    inventory_df['isCurrent'] = True\n",
    "    inventory_df['inventory_skey'] = range(1, len(inventory_df) + 1)\n",
    "\n",
    "    # Load the DataFrame into BigQuery\n",
    "    job_config = bigquery.LoadJobConfig(schema=inventory_schema, write_disposition=bigquery.WriteDisposition.WRITE_TRUNCATE)\n",
    "    job = client.load_table_from_dataframe(inventory_df, inventory_table_id, job_config=job_config)\n",
    "    job.result()  # Wait for the job to complete.\n",
    "\n",
    "    print(f\"Initial load of inventory table {inventory_table_id} completed successfully.\")\n",
    "\n",
    "\n",
    "\n",
    "# Perform the initial load\n",
    "initial_load_inventory(client, inventory_table_id, inventory_df)\n"
   ]
  }
 ],
 "metadata": {
  "kernelspec": {
   "display_name": "dema",
   "language": "python",
   "name": "python3"
  },
  "language_info": {
   "codemirror_mode": {
    "name": "ipython",
    "version": 3
   },
   "file_extension": ".py",
   "mimetype": "text/x-python",
   "name": "python",
   "nbconvert_exporter": "python",
   "pygments_lexer": "ipython3",
   "version": "3.11.0"
  }
 },
 "nbformat": 4,
 "nbformat_minor": 2
}
